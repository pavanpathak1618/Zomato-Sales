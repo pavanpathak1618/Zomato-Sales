{
 "cells": [
  {
   "cell_type": "markdown",
   "id": "669bf2eb-7e41-4545-a872-672f9e9472d6",
   "metadata": {},
   "source": [
    "# ZOMATA DATA ANALYSIS PROJECT."
   ]
  },
  {
   "cell_type": "markdown",
   "id": "d9a292c1-581a-45f5-8079-ad6f9ea23728",
   "metadata": {
    "jp-MarkdownHeadingCollapsed": true
   },
   "source": [
    "## IMPORTING LIBRARIES. "
   ]
  },
  {
   "cell_type": "code",
   "execution_count": 1,
   "id": "fc52fc66-c8b0-4ae0-a3bb-aa1abc806fc1",
   "metadata": {},
   "outputs": [],
   "source": [
    "import pandas as pd\n",
    "import numpy as np\n",
    "import matplotlib.pyplot as plt\n",
    "import seaborn as sns"
   ]
  },
  {
   "cell_type": "markdown",
   "id": "f34a651b-2734-420e-8c48-bca719b9e8fb",
   "metadata": {
    "jp-MarkdownHeadingCollapsed": true
   },
   "source": [
    "## IMPORTING AND VIEWING THE DATAFRAME."
   ]
  },
  {
   "cell_type": "code",
   "execution_count": 3,
   "id": "8d57ba55-80fc-47fa-bdc4-6a8ece4945d2",
   "metadata": {},
   "outputs": [
    {
     "data": {
      "text/html": [
       "<div>\n",
       "<style scoped>\n",
       "    .dataframe tbody tr th:only-of-type {\n",
       "        vertical-align: middle;\n",
       "    }\n",
       "\n",
       "    .dataframe tbody tr th {\n",
       "        vertical-align: top;\n",
       "    }\n",
       "\n",
       "    .dataframe thead th {\n",
       "        text-align: right;\n",
       "    }\n",
       "</style>\n",
       "<table border=\"1\" class=\"dataframe\">\n",
       "  <thead>\n",
       "    <tr style=\"text-align: right;\">\n",
       "      <th></th>\n",
       "      <th>name</th>\n",
       "      <th>online_order</th>\n",
       "      <th>book_table</th>\n",
       "      <th>rate</th>\n",
       "      <th>votes</th>\n",
       "      <th>approx_cost(for two people)</th>\n",
       "      <th>listed_in(type)</th>\n",
       "    </tr>\n",
       "  </thead>\n",
       "  <tbody>\n",
       "    <tr>\n",
       "      <th>0</th>\n",
       "      <td>Jalsa</td>\n",
       "      <td>Yes</td>\n",
       "      <td>Yes</td>\n",
       "      <td>4.1/5</td>\n",
       "      <td>775</td>\n",
       "      <td>800</td>\n",
       "      <td>Buffet</td>\n",
       "    </tr>\n",
       "    <tr>\n",
       "      <th>1</th>\n",
       "      <td>Spice Elephant</td>\n",
       "      <td>Yes</td>\n",
       "      <td>No</td>\n",
       "      <td>4.1/5</td>\n",
       "      <td>787</td>\n",
       "      <td>800</td>\n",
       "      <td>Buffet</td>\n",
       "    </tr>\n",
       "    <tr>\n",
       "      <th>2</th>\n",
       "      <td>San Churro Cafe</td>\n",
       "      <td>Yes</td>\n",
       "      <td>No</td>\n",
       "      <td>3.8/5</td>\n",
       "      <td>918</td>\n",
       "      <td>800</td>\n",
       "      <td>Buffet</td>\n",
       "    </tr>\n",
       "    <tr>\n",
       "      <th>3</th>\n",
       "      <td>Addhuri Udupi Bhojana</td>\n",
       "      <td>No</td>\n",
       "      <td>No</td>\n",
       "      <td>3.7/5</td>\n",
       "      <td>88</td>\n",
       "      <td>300</td>\n",
       "      <td>Buffet</td>\n",
       "    </tr>\n",
       "    <tr>\n",
       "      <th>4</th>\n",
       "      <td>Grand Village</td>\n",
       "      <td>No</td>\n",
       "      <td>No</td>\n",
       "      <td>3.8/5</td>\n",
       "      <td>166</td>\n",
       "      <td>600</td>\n",
       "      <td>Buffet</td>\n",
       "    </tr>\n",
       "  </tbody>\n",
       "</table>\n",
       "</div>"
      ],
      "text/plain": [
       "                    name online_order book_table   rate  votes  \\\n",
       "0                  Jalsa          Yes        Yes  4.1/5    775   \n",
       "1         Spice Elephant          Yes         No  4.1/5    787   \n",
       "2        San Churro Cafe          Yes         No  3.8/5    918   \n",
       "3  Addhuri Udupi Bhojana           No         No  3.7/5     88   \n",
       "4          Grand Village           No         No  3.8/5    166   \n",
       "\n",
       "   approx_cost(for two people) listed_in(type)  \n",
       "0                          800          Buffet  \n",
       "1                          800          Buffet  \n",
       "2                          800          Buffet  \n",
       "3                          300          Buffet  \n",
       "4                          600          Buffet  "
      ]
     },
     "execution_count": 3,
     "metadata": {},
     "output_type": "execute_result"
    }
   ],
   "source": [
    "df= pd.read_csv('Desktop/ZOMATO_SALES.csv')\n",
    "df.head()"
   ]
  },
  {
   "cell_type": "markdown",
   "id": "1cd675d0-0364-4e1f-b17e-a3af39a60d73",
   "metadata": {
    "jp-MarkdownHeadingCollapsed": true
   },
   "source": [
    "## DETERMINING THE DIMENSION OF THE DATAFRAME."
   ]
  },
  {
   "cell_type": "code",
   "execution_count": 4,
   "id": "ad63f33c-c3bd-4466-b6c1-c6afec37b28d",
   "metadata": {},
   "outputs": [
    {
     "data": {
      "text/plain": [
       "(148, 7)"
      ]
     },
     "execution_count": 4,
     "metadata": {},
     "output_type": "execute_result"
    }
   ],
   "source": [
    "df.shape"
   ]
  },
  {
   "cell_type": "markdown",
   "id": "a24f2137-79f2-43d2-a1a7-b6b4f0681add",
   "metadata": {
    "jp-MarkdownHeadingCollapsed": true
   },
   "source": [
    "## SUMMARY OF DATAFRAME."
   ]
  },
  {
   "cell_type": "code",
   "execution_count": 5,
   "id": "e2b43440-f7f6-44e3-a785-1daf67e396ea",
   "metadata": {},
   "outputs": [
    {
     "name": "stdout",
     "output_type": "stream",
     "text": [
      "<class 'pandas.core.frame.DataFrame'>\n",
      "RangeIndex: 148 entries, 0 to 147\n",
      "Data columns (total 7 columns):\n",
      " #   Column                       Non-Null Count  Dtype \n",
      "---  ------                       --------------  ----- \n",
      " 0   name                         148 non-null    object\n",
      " 1   online_order                 148 non-null    object\n",
      " 2   book_table                   148 non-null    object\n",
      " 3   rate                         148 non-null    object\n",
      " 4   votes                        148 non-null    int64 \n",
      " 5   approx_cost(for two people)  148 non-null    int64 \n",
      " 6   listed_in(type)              148 non-null    object\n",
      "dtypes: int64(2), object(5)\n",
      "memory usage: 8.2+ KB\n"
     ]
    }
   ],
   "source": [
    "df.info()"
   ]
  },
  {
   "cell_type": "markdown",
   "id": "6fc693e7-fb21-4549-b0e4-5ffc018d1998",
   "metadata": {
    "jp-MarkdownHeadingCollapsed": true
   },
   "source": [
    "## DESCRIPTION OF DATAFRAME."
   ]
  },
  {
   "cell_type": "code",
   "execution_count": 6,
   "id": "a28bfd7e-6eb2-4962-bc89-aab1658fdacd",
   "metadata": {},
   "outputs": [
    {
     "data": {
      "text/html": [
       "<div>\n",
       "<style scoped>\n",
       "    .dataframe tbody tr th:only-of-type {\n",
       "        vertical-align: middle;\n",
       "    }\n",
       "\n",
       "    .dataframe tbody tr th {\n",
       "        vertical-align: top;\n",
       "    }\n",
       "\n",
       "    .dataframe thead th {\n",
       "        text-align: right;\n",
       "    }\n",
       "</style>\n",
       "<table border=\"1\" class=\"dataframe\">\n",
       "  <thead>\n",
       "    <tr style=\"text-align: right;\">\n",
       "      <th></th>\n",
       "      <th>votes</th>\n",
       "      <th>approx_cost(for two people)</th>\n",
       "    </tr>\n",
       "  </thead>\n",
       "  <tbody>\n",
       "    <tr>\n",
       "      <th>count</th>\n",
       "      <td>148.000000</td>\n",
       "      <td>148.000000</td>\n",
       "    </tr>\n",
       "    <tr>\n",
       "      <th>mean</th>\n",
       "      <td>264.810811</td>\n",
       "      <td>418.243243</td>\n",
       "    </tr>\n",
       "    <tr>\n",
       "      <th>std</th>\n",
       "      <td>653.676951</td>\n",
       "      <td>223.085098</td>\n",
       "    </tr>\n",
       "    <tr>\n",
       "      <th>min</th>\n",
       "      <td>0.000000</td>\n",
       "      <td>100.000000</td>\n",
       "    </tr>\n",
       "    <tr>\n",
       "      <th>25%</th>\n",
       "      <td>6.750000</td>\n",
       "      <td>200.000000</td>\n",
       "    </tr>\n",
       "    <tr>\n",
       "      <th>50%</th>\n",
       "      <td>43.500000</td>\n",
       "      <td>400.000000</td>\n",
       "    </tr>\n",
       "    <tr>\n",
       "      <th>75%</th>\n",
       "      <td>221.750000</td>\n",
       "      <td>600.000000</td>\n",
       "    </tr>\n",
       "    <tr>\n",
       "      <th>max</th>\n",
       "      <td>4884.000000</td>\n",
       "      <td>950.000000</td>\n",
       "    </tr>\n",
       "  </tbody>\n",
       "</table>\n",
       "</div>"
      ],
      "text/plain": [
       "             votes  approx_cost(for two people)\n",
       "count   148.000000                   148.000000\n",
       "mean    264.810811                   418.243243\n",
       "std     653.676951                   223.085098\n",
       "min       0.000000                   100.000000\n",
       "25%       6.750000                   200.000000\n",
       "50%      43.500000                   400.000000\n",
       "75%     221.750000                   600.000000\n",
       "max    4884.000000                   950.000000"
      ]
     },
     "execution_count": 6,
     "metadata": {},
     "output_type": "execute_result"
    }
   ],
   "source": [
    "df.describe()"
   ]
  },
  {
   "cell_type": "markdown",
   "id": "3653eb8e-10b3-4b67-a1f8-96fac884afa6",
   "metadata": {
    "jp-MarkdownHeadingCollapsed": true
   },
   "source": [
    "## CONVERTING THE DATA-TYPE OF COLUMN - RATE."
   ]
  },
  {
   "cell_type": "code",
   "execution_count": 8,
   "id": "93577ace-fed4-4724-ab31-911872f2e7ad",
   "metadata": {},
   "outputs": [
    {
     "name": "stdout",
     "output_type": "stream",
     "text": [
      "                    name online_order book_table  rate  votes  \\\n",
      "0                  Jalsa          Yes        Yes   4.1    775   \n",
      "1         Spice Elephant          Yes         No   4.1    787   \n",
      "2        San Churro Cafe          Yes         No   3.8    918   \n",
      "3  Addhuri Udupi Bhojana           No         No   3.7     88   \n",
      "4          Grand Village           No         No   3.8    166   \n",
      "\n",
      "   approx_cost(for two people) listed_in(type)  \n",
      "0                          800          Buffet  \n",
      "1                          800          Buffet  \n",
      "2                          800          Buffet  \n",
      "3                          300          Buffet  \n",
      "4                          600          Buffet  \n"
     ]
    }
   ],
   "source": [
    "def handleRate(value):\n",
    "    value=str(value).split('/')\n",
    "    value=value[0]\n",
    "    return float(value)\n",
    "\n",
    "df['rate']=df['rate'].apply(handleRate)\n",
    "print(df.head())"
   ]
  },
  {
   "cell_type": "markdown",
   "id": "5e11f72d-93df-45bb-bec3-5990a17a7484",
   "metadata": {
    "jp-MarkdownHeadingCollapsed": true
   },
   "source": [
    "## TYPE OF RESTAURANT."
   ]
  },
  {
   "cell_type": "code",
   "execution_count": 9,
   "id": "a73df27e-db1f-40fe-9e33-1d33d5a40de9",
   "metadata": {},
   "outputs": [
    {
     "data": {
      "text/plain": [
       "Text(0.5, 0, 'Type of restaurant')"
      ]
     },
     "execution_count": 9,
     "metadata": {},
     "output_type": "execute_result"
    },
    {
     "data": {
      "image/png": "[encoded data removed]",
      "text/plain": [
       "<Figure size 640x480 with 1 Axes>"
      ]
     },
     "metadata": {},
     "output_type": "display_data"
    }
   ],
   "source": [
    "sns.countplot(x=df['listed_in(type)'])\n",
    "plt.xlabel(\"Type of restaurant\")"
   ]
  },
  {
   "cell_type": "markdown",
   "id": "2d7a0a87-fa17-42e9-8f77-e1c2eb5a0105",
   "metadata": {
    "jp-MarkdownHeadingCollapsed": true
   },
   "source": [
    "### CONCLUSION."
   ]
  },
  {
   "cell_type": "raw",
   "id": "cbfd2ad7-7a7b-46e9-ba80-9b81ca162640",
   "metadata": {},
   "source": [
    "DINING IS PREFFERED BY GREATER NUMBER OF INDIVIDUALS."
   ]
  },
  {
   "cell_type": "markdown",
   "id": "3d679343-daf7-4aab-bf47-f11cfe30d50f",
   "metadata": {
    "jp-MarkdownHeadingCollapsed": true
   },
   "source": [
    "## VOTES."
   ]
  },
  {
   "cell_type": "code",
   "execution_count": 11,
   "id": "60ccc9ac-a5de-46ea-ba29-fa3ed4aa8779",
   "metadata": {},
   "outputs": [
    {
     "data": {
      "text/plain": [
       "Text(0, 0.5, 'votes')"
      ]
     },
     "execution_count": 11,
     "metadata": {},
     "output_type": "execute_result"
    },
    {
     "data": {
      "image/png": "[encoded data removed]",
      "text/plain": [
       "<Figure size 640x480 with 1 Axes>"
      ]
     },
     "metadata": {},
     "output_type": "display_data"
    }
   ],
   "source": [
    "grouped_data=df.groupby('listed_in(type)')['votes'].sum()\n",
    "result=pd.DataFrame({'votes': grouped_data})\n",
    "plt.plot(result, c=\"green\", marker=\"o\")\n",
    "plt.xlabel(\"Type of Restaurant\", c=\"red\", size=20)\n",
    "plt.ylabel(\"votes\", c=\"red\", size=20)"
   ]
  },
  {
   "cell_type": "markdown",
   "id": "fcd1dc90-faf6-4bf1-aa58-ea762c7dc77d",
   "metadata": {
    "jp-MarkdownHeadingCollapsed": true
   },
   "source": [
    "### CONCLUSION."
   ]
  },
  {
   "cell_type": "raw",
   "id": "8138e067-ae40-4d0c-8b69-bb4785413707",
   "metadata": {},
   "source": [
    "MAJORITY OF VOTES ARE GIVEN TO DINING WHICH CONCLUDES IT IS THE MOST PREFFERED TYPE."
   ]
  },
  {
   "cell_type": "markdown",
   "id": "b467cebf-27be-4847-8d16-9b74687b55b3",
   "metadata": {
    "jp-MarkdownHeadingCollapsed": true
   },
   "source": [
    "## RATINGS RECIEVED BY MAJORITY OF RESTAURANT."
   ]
  },
  {
   "cell_type": "code",
   "execution_count": 12,
   "id": "76cce9c7-4565-428c-b956-7c0803b9e289",
   "metadata": {},
   "outputs": [
    {
     "data": {
      "image/png": "[encoded data removed]",
      "text/plain": [
       "<Figure size 640x480 with 1 Axes>"
      ]
     },
     "metadata": {},
     "output_type": "display_data"
    }
   ],
   "source": [
    "plt.hist(df['rate'], bins=5)\n",
    "plt.title(\"Ratings Distribution\")\n",
    "plt.show()"
   ]
  },
  {
   "cell_type": "markdown",
   "id": "57a46a88-1c3e-4e80-a33f-5f3190dcbf63",
   "metadata": {
    "jp-MarkdownHeadingCollapsed": true
   },
   "source": [
    "### CONCLUSION."
   ]
  },
  {
   "cell_type": "raw",
   "id": "1f421c87-aef0-47d7-a21a-60a098123c8f",
   "metadata": {},
   "source": [
    "MOJARITY OF RESTAURANTS HAVE RATING BETWEEN 3.75 TO 4."
   ]
  },
  {
   "cell_type": "markdown",
   "id": "deb99af5-213b-4326-9af6-6f3b2b6eb244",
   "metadata": {
    "jp-MarkdownHeadingCollapsed": true
   },
   "source": [
    "## MOST PREFERRED RESTAURANTS BY COUPLE (DEPENDING ON AVERAGE COST)."
   ]
  },
  {
   "cell_type": "code",
   "execution_count": 13,
   "id": "a0c49d40-c684-40ac-bf25-05dcc420e5f8",
   "metadata": {},
   "outputs": [
    {
     "data": {
      "text/plain": [
       "<Axes: xlabel='approx_cost(for two people)', ylabel='count'>"
      ]
     },
     "execution_count": 13,
     "metadata": {},
     "output_type": "execute_result"
    },
    {
     "data": {
      "image/png": "[encoded data removed]",
      "text/plain": [
       "<Figure size 640x480 with 1 Axes>"
      ]
     },
     "metadata": {},
     "output_type": "display_data"
    }
   ],
   "source": [
    "couple_data=df['approx_cost(for two people)']\n",
    "sns.countplot(x=couple_data)"
   ]
  },
  {
   "cell_type": "markdown",
   "id": "5907866c-0784-4af4-aae8-cc0ab61d3a77",
   "metadata": {},
   "source": [
    "### CONCLUSION."
   ]
  },
  {
   "cell_type": "raw",
   "id": "def3e866-d7c0-4987-9c61-e5d739800f5d",
   "metadata": {},
   "source": [
    "COUPLES MOSTLY PREFER RESTAURANTS HAVING AN AVAERAGE COST OF 300."
   ]
  },
  {
   "cell_type": "markdown",
   "id": "ac57c37f-ec52-4da4-8016-087a315ee2a2",
   "metadata": {
    "jp-MarkdownHeadingCollapsed": true
   },
   "source": [
    "## WHICH MODE RECIEVES HIGHER RATING ( ONLINE OR OFFLINE )."
   ]
  },
  {
   "cell_type": "code",
   "execution_count": 14,
   "id": "45ba5685-8662-4856-b09e-c5b390062e71",
   "metadata": {},
   "outputs": [
    {
     "data": {
      "text/plain": [
       "<Axes: xlabel='online_order', ylabel='rate'>"
      ]
     },
     "execution_count": 14,
     "metadata": {},
     "output_type": "execute_result"
    },
    {
     "data": {
      "image/png": "[encoded data removed]",
      "text/plain": [
       "<Figure size 600x600 with 1 Axes>"
      ]
     },
     "metadata": {},
     "output_type": "display_data"
    }
   ],
   "source": [
    "plt.figure(figsize=(6,6))\n",
    "sns.boxplot(x='online_order', y='rate', data=df)"
   ]
  },
  {
   "cell_type": "markdown",
   "id": "c893536d-8198-49e2-887a-b658d932a78b",
   "metadata": {
    "jp-MarkdownHeadingCollapsed": true
   },
   "source": [
    "### CONCLUSION."
   ]
  },
  {
   "cell_type": "raw",
   "id": "45a19d88-81d8-4a8e-806e-71611759a9c0",
   "metadata": {},
   "source": [
    "OFFLINE ORDERS RECIEVE LOWER RATING AS COMPARED TO ONLINE ORDERS."
   ]
  },
  {
   "cell_type": "markdown",
   "id": "95851e42-60ed-49f4-8cde-41719e62c199",
   "metadata": {
    "jp-MarkdownHeadingCollapsed": true
   },
   "source": [
    "## 🟢 Insights & Conclusions:"
   ]
  },
  {
   "cell_type": "raw",
   "id": "599cff93-5f76-4481-b7f9-70eecdd9aff6",
   "metadata": {},
   "source": [
    "ONLINE ORDERING:\n",
    "A MAJORITY OF RESTAURANTS OFFER ONLINE ORDERING.\n",
    "THIS COULD INDICATE A CUSTOMER PREFERENCE FOR DIGITAL CONVENIENCE."
   ]
  },
  {
   "cell_type": "raw",
   "id": "9a9f9afd-4e5f-46b6-88fb-17c596d0abcf",
   "metadata": {},
   "source": [
    "TABLE BOOKING:\n",
    "FEWER RESTAURANTS OFFER TABLE BOOKING COMPARED TO ONLINE ORDERING.\n",
    "SUGGESTS TABLE BOOKING MIGHT BE LIMITED TO MORE PREMIUM OR DINE-IN FOCUSED ESTABLISHMENTS."
   ]
  },
  {
   "cell_type": "raw",
   "id": "3a167eec-009a-4f4e-b553-8491f1f71b1c",
   "metadata": {},
   "source": [
    "VOTES DISTRIBUTION:\n",
    "MOST RESTAURANTS HAVE FEWER THAN 1000 VOTES.\n",
    "A FEW POPULAR ONES HAVE VERY HIGH VOTE COUNTS, INDICATING A SKEWED DISTRIBUTION (SOME HIGHLY FAVORED PLACES)."
   ]
  },
  {
   "cell_type": "raw",
   "id": "ba7784ff-72de-4a6b-98ae-ceffd9bc8f31",
   "metadata": {},
   "source": [
    "COST VS RATING:\n",
    "NO STRICT CORRELATION BETWEEN COST AND RATING.\n",
    "BOTH HIGH- AND LOW-COST RESTAURANTS CAN HAVE HIGH RATINGS, SUGGESTING QUALITY AND EXPERIENCE MATTER MORE THAN JUST PRICE."
   ]
  }
 ],
 "metadata": {
  "kernelspec": {
   "display_name": "Python 3 (ipykernel)",
   "language": "python",
   "name": "python3"
  },
  "language_info": {
   "codemirror_mode": {
    "name": "ipython",
    "version": 3
   },
   "file_extension": ".py",
   "mimetype": "text/x-python",
   "name": "python",
   "nbconvert_exporter": "python",
   "pygments_lexer": "ipython3",
   "version": "3.11.7"
  }
 },
 "nbformat": 4,
 "nbformat_minor": 5
}
